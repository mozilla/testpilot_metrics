{
 "cells": [
  {
   "cell_type": "markdown",
   "metadata": {},
   "source": [
    "# Test Pilot Event-Based Installation Counts\n",
    "The output of this notebook is used to fill in the installation counts from testpilot.firefox.com. The way we calculate these counts is:\n",
    "1. Count all the enable and disable events since the switchover to event-based pings\n",
    "2. Add all the enable and the disable to our baseline numbers (the approximate number of installations we had before moving to event-based pings)\n",
    "3. Output these numbers to a publicly-accessible json file (available at https://analysis-output.telemetry.mozilla.org/testpilot/data/installation-counts/latest.json) -- note we output the results to latest.json as well as &lt;timestamp&gt;.json\n",
    "\n",
    "Please note these numbers are calculated for the sole purpose of giving an approximation to end-users and should absolutely not be used for decision-making."
   ]
  },
  {
   "cell_type": "code",
   "execution_count": 15,
   "metadata": {
    "collapsed": false
   },
   "outputs": [
    {
     "data": {
      "text/plain": [
       "256"
      ]
     },
     "execution_count": 15,
     "metadata": {},
     "output_type": "execute_result"
    }
   ],
   "source": [
    "sc.defaultParallelism"
   ]
  },
  {
   "cell_type": "code",
   "execution_count": 16,
   "metadata": {
    "collapsed": false
   },
   "outputs": [],
   "source": [
    "from moztelemetry import get_pings, get_pings_properties\n",
    "from collections import defaultdict\n",
    "import json\n",
    "import time\n",
    "import boto3\n",
    "from boto3.s3.transfer import S3Transfer\n",
    "\n",
    "FRACTION = 1"
   ]
  },
  {
   "cell_type": "code",
   "execution_count": 17,
   "metadata": {
    "collapsed": false,
    "scrolled": true
   },
   "outputs": [
    {
     "data": {
      "text/plain": [
       "43243"
      ]
     },
     "execution_count": 17,
     "metadata": {},
     "output_type": "execute_result"
    }
   ],
   "source": [
    "# First, grab ids for all the clients who have sent us new-style pings\n",
    "\n",
    "testpilot_pings = get_pings(sc, doc_type=\"testpilot\", app=\"Firefox\", fraction=FRACTION)\n",
    "testpilot_fields = [\"payload/version\", \"clientId\", \"payload/tests\", \"payload/events\"]\n",
    "testpilot_subset = get_pings_properties(testpilot_pings, testpilot_fields)\n",
    "new_ping_subset = testpilot_subset.filter(lambda t: t['payload/version'] != 1)\n",
    "active_clients = new_ping_subset.map(lambda t: (t[\"clientId\"], True)).distinct()\n",
    "active_clients.count()"
   ]
  },
  {
   "cell_type": "code",
   "execution_count": 18,
   "metadata": {
    "collapsed": true
   },
   "outputs": [],
   "source": [
    "# Baseline installs, approximately how many installations we had before the TxP event-based ping changes\n",
    "baseline_installations = {\n",
    "    u'@activity-streams': 22000,\n",
    "    u'@testpilot-addon': 30000,  # This number is *totally* made up, do not use for anything important\n",
    "    u'tabcentertest1@mozilla.com': 20000,\n",
    "    u'universal-search@mozilla.com': 33500,\n",
    "    u'wayback_machine@mozilla.org': 3400\n",
    "}"
   ]
  },
  {
   "cell_type": "code",
   "execution_count": 19,
   "metadata": {
    "collapsed": false
   },
   "outputs": [],
   "source": [
    "# Now we want to grab enabled/disabled events from the new-style pings\n",
    "new_style_events = new_ping_subset.flatMap(lambda t: t.get('payload/events', []))"
   ]
  },
  {
   "cell_type": "code",
   "execution_count": 20,
   "metadata": {
    "collapsed": false
   },
   "outputs": [
    {
     "data": {
      "text/plain": [
       "defaultdict(int,\n",
       "            {u'@activity-streams': 26632,\n",
       "             u'@foo-bar': 2,\n",
       "             u'@testpilot-addon': 16786,\n",
       "             u'@x16': 4,\n",
       "             u'blok@mozilla.org': 66,\n",
       "             u'tabcentertest1@mozilla.com': 11194,\n",
       "             u'universal-search@mozilla.com': 4110,\n",
       "             u'wayback_machine@mozilla.org': 17274})"
      ]
     },
     "execution_count": 20,
     "metadata": {},
     "output_type": "execute_result"
    }
   ],
   "source": [
    "enable_events = new_style_events\\\n",
    "                    .filter(lambda t: t.get('event', None) == 'enabled')\\\n",
    "                    .map(lambda t: t['object'])\\\n",
    "                    .countByValue()\n",
    "enable_events"
   ]
  },
  {
   "cell_type": "code",
   "execution_count": 21,
   "metadata": {
    "collapsed": true
   },
   "outputs": [],
   "source": [
    "disable_events = new_style_events\\\n",
    "                    .filter(lambda t: t.get('event', None) == 'disabled')\\\n",
    "                    .map(lambda t: t['object'])\\\n",
    "                    .countByValue()"
   ]
  },
  {
   "cell_type": "code",
   "execution_count": 22,
   "metadata": {
    "collapsed": false
   },
   "outputs": [
    {
     "data": {
      "text/plain": [
       "defaultdict(int,\n",
       "            {u'@activity-streams': -1493,\n",
       "             u'@foo-bar': -2,\n",
       "             u'@testpilot-addon': -2156,\n",
       "             u'@x16': -4,\n",
       "             u'blok@mozilla.org': -47,\n",
       "             u'tabcentertest1@mozilla.com': -2639,\n",
       "             u'universal-search@mozilla.com': -1073,\n",
       "             u'wayback_machine@mozilla.org': -756})"
      ]
     },
     "execution_count": 22,
     "metadata": {},
     "output_type": "execute_result"
    }
   ],
   "source": [
    "# negate disable event counts\n",
    "for k,v in disable_events.items():\n",
    "    disable_events[k] = v * -1\n",
    "\n",
    "disable_events"
   ]
  },
  {
   "cell_type": "code",
   "execution_count": 23,
   "metadata": {
    "collapsed": false
   },
   "outputs": [
    {
     "data": {
      "text/plain": [
       "defaultdict(list,\n",
       "            {u'@activity-streams': [22000, 26632, -1493],\n",
       "             u'@foo-bar': [2, -2],\n",
       "             u'@testpilot-addon': [30000, 16786, -2156],\n",
       "             u'@x16': [4, -4],\n",
       "             u'blok@mozilla.org': [66, -47],\n",
       "             u'tabcentertest1@mozilla.com': [20000, 11194, -2639],\n",
       "             u'universal-search@mozilla.com': [33500, 4110, -1073],\n",
       "             u'wayback_machine@mozilla.org': [3400, 17274, -756]})"
      ]
     },
     "execution_count": 23,
     "metadata": {},
     "output_type": "execute_result"
    }
   ],
   "source": [
    "# Add everything together\n",
    "\n",
    "def join_dicts(dicts):\n",
    "    joined_dict = defaultdict(list)\n",
    "    for dictionary in dicts:\n",
    "        for k,v in dictionary.items():\n",
    "            joined_dict[k].append(v)\n",
    "    return joined_dict\n",
    "\n",
    "final_counts = join_dicts([baseline_installations, enable_events, disable_events])\n",
    "final_counts"
   ]
  },
  {
   "cell_type": "code",
   "execution_count": 24,
   "metadata": {
    "collapsed": false,
    "scrolled": true
   },
   "outputs": [
    {
     "data": {
      "text/plain": [
       "defaultdict(list,\n",
       "            {u'@activity-streams': 47139,\n",
       "             u'@foo-bar': 0,\n",
       "             u'@testpilot-addon': 44630,\n",
       "             u'@x16': 0,\n",
       "             u'blok@mozilla.org': 19,\n",
       "             u'tabcentertest1@mozilla.com': 28555,\n",
       "             u'universal-search@mozilla.com': 36537,\n",
       "             u'wayback_machine@mozilla.org': 19918})"
      ]
     },
     "execution_count": 24,
     "metadata": {},
     "output_type": "execute_result"
    }
   ],
   "source": [
    "for k,v in final_counts.items():\n",
    "    final_counts[k] = sum(v)\n",
    "\n",
    "final_counts"
   ]
  },
  {
   "cell_type": "code",
   "execution_count": 25,
   "metadata": {
    "collapsed": true
   },
   "outputs": [],
   "source": [
    "# Output this to json to write to file\n",
    "counts_json = json.dumps(final_counts)"
   ]
  },
  {
   "cell_type": "code",
   "execution_count": 26,
   "metadata": {
    "collapsed": false
   },
   "outputs": [
    {
     "data": {
      "text/plain": [
       "1473194862"
      ]
     },
     "execution_count": 26,
     "metadata": {},
     "output_type": "execute_result"
    }
   ],
   "source": [
    "# Not really necessary, but we're saving historical output to a timestamped file\n",
    "timestamp = int(time.time())\n",
    "timestamp"
   ]
  },
  {
   "cell_type": "code",
   "execution_count": 27,
   "metadata": {
    "collapsed": false
   },
   "outputs": [],
   "source": [
    "timestamped_filename = \"{}.json\".format(timestamp)\n",
    "latest_filename = \"latest.json\"\n",
    "bucket = \"telemetry-public-analysis-2\"\n",
    "path = \"testpilot/data/installation-counts/\"\n",
    "timestamped_s3_key = path + timestamped_filename\n",
    "latest_s3_key = path + latest_filename\n",
    "\n",
    "with open(latest_filename, 'w') as f:\n",
    "    f.write(counts_json)"
   ]
  },
  {
   "cell_type": "code",
   "execution_count": 28,
   "metadata": {
    "collapsed": false
   },
   "outputs": [],
   "source": [
    "client = boto3.client('s3', 'us-west-2')\n",
    "transfer = S3Transfer(client)\n",
    "transfer.upload_file(latest_filename, bucket, timestamped_s3_key, extra_args={'ContentType':'application/json'})\n",
    "transfer.upload_file(latest_filename, bucket, latest_s3_key, extra_args={'ContentType':'application/json'})"
   ]
  }
 ],
 "metadata": {
  "kernelspec": {
   "display_name": "Python 2",
   "language": "python",
   "name": "python2"
  },
  "language_info": {
   "codemirror_mode": {
    "name": "ipython",
    "version": 2
   },
   "file_extension": ".py",
   "mimetype": "text/x-python",
   "name": "python",
   "nbconvert_exporter": "python",
   "pygments_lexer": "ipython2",
   "version": "2.7.11"
  }
 },
 "nbformat": 4,
 "nbformat_minor": 0
}
